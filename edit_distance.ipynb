{
 "cells": [
  {
   "cell_type": "code",
   "execution_count": 3,
   "id": "13f9efda-7c39-4295-adef-90d66523ad93",
   "metadata": {},
   "outputs": [
    {
     "name": "stdout",
     "output_type": "stream",
     "text": [
      "Collecting editdistance\n",
      "  Downloading editdistance-0.8.1-cp311-cp311-win_amd64.whl.metadata (3.9 kB)\n",
      "Downloading editdistance-0.8.1-cp311-cp311-win_amd64.whl (79 kB)\n",
      "   ---------------------------------------- 0.0/79.7 kB ? eta -:--:--\n",
      "   ---------------------------------------- 0.0/79.7 kB ? eta -:--:--\n",
      "   ----- ---------------------------------- 10.2/79.7 kB ? eta -:--:--\n",
      "   --------------- ------------------------ 30.7/79.7 kB 435.7 kB/s eta 0:00:01\n",
      "   ---------------------------------------- 79.7/79.7 kB 637.2 kB/s eta 0:00:00\n",
      "Installing collected packages: editdistance\n",
      "Successfully installed editdistance-0.8.1\n",
      "Note: you may need to restart the kernel to use updated packages.\n"
     ]
    },
    {
     "name": "stderr",
     "output_type": "stream",
     "text": [
      "\n",
      "[notice] A new release of pip is available: 24.0 -> 24.1.1\n",
      "[notice] To update, run: python.exe -m pip install --upgrade pip\n"
     ]
    }
   ],
   "source": [
    "pip install editdistance\n"
   ]
  },
  {
   "cell_type": "code",
   "execution_count": 4,
   "id": "5c87b308-b824-4c81-a363-3b7e047052c2",
   "metadata": {},
   "outputs": [],
   "source": [
    "import pandas as pd\n",
    "import editdistance\n",
    "import random"
   ]
  },
  {
   "cell_type": "code",
   "execution_count": 30,
   "id": "937b4a85-1f9b-4cf4-a717-9446a3af349a",
   "metadata": {},
   "outputs": [],
   "source": [
    "# Chemins fictifs des fichiers texte\n",
    "aligned_words_file = 'C:/Users/beaujo/Desktop/qualiéocrestim/sortie_ocr.txt'\n",
    "aligned_gs_words_file = 'C:/Users/beaujo/Desktop/qualiéocrestim/Ground_Truth.txt'\n",
    "\n",
    "# Chargement des fichiers texte\n",
    "with open(aligned_words_file, 'r', encoding='utf-8') as f:\n",
    "    aligned_words = f.readlines()\n",
    "\n",
    "with open(aligned_gs_words_file, 'r', encoding='utf-8') as f:\n",
    "    aligned_gs_words = f.readlines()\n",
    "\n",
    "# Nettoyage des lignes (enlever les sauts de ligne)\n",
    "aligned_words = [line.strip() for line in aligned_words]\n",
    "aligned_gs_words = [line.strip() for line in aligned_gs_words]"
   ]
  },
  {
   "cell_type": "code",
   "execution_count": 31,
   "id": "b42c20ea-718d-44bb-98a9-a8b5030499c1",
   "metadata": {},
   "outputs": [
    {
     "data": {
      "text/plain": [
       "<Axes: >"
      ]
     },
     "execution_count": 31,
     "metadata": {},
     "output_type": "execute_result"
    },
    {
     "data": {
      "image/png": "[encoded data removed]",
      "text/plain": [
       "<Figure size 640x480 with 1 Axes>"
      ]
     },
     "metadata": {},
     "output_type": "display_data"
    }
   ],
   "source": [
    "######################## calcul et affichage de la distanc de levinstein de notre corpus\n",
    "sent_stat = pd.DataFrame({\"ocr_sentence\": aligned_words, \"gs_sentence\": aligned_gs_words})\n",
    "\n",
    "def compute_sent_edit_distance(x):\n",
    "    ''' Compute sentence edit distance normalized by the length of the sentence'''\n",
    "    ocr_sent = \"\".join(x['ocr_sentence'])\n",
    "    gs_sent = \"\".join(x['gs_sentence'])\n",
    "    return editdistance.distance(ocr_sent, gs_sent) / max(len(ocr_sent), len(gs_sent))\n",
    "\n",
    "sent_stat[\"sent_edit_distance\"] = sent_stat.apply(compute_sent_edit_distance, axis=1)\n",
    "### generation du graphique \n",
    "sent_stat[\"sent_edit_distance\"].hist()"
   ]
  },
  {
   "cell_type": "code",
   "execution_count": 32,
   "id": "3f3ba9bd-09cd-4dad-984c-2380f0c221f4",
   "metadata": {},
   "outputs": [
    {
     "name": "stdout",
     "output_type": "stream",
     "text": [
      "Bonnes phrases: 18\n",
      "Phrases totales: 55\n",
      "Ratio de bonnes phrases: 0.32727272727272727\n"
     ]
    }
   ],
   "source": [
    "########################## comptage des bonne et mauvaise phrase de notre corpus\n",
    "\n",
    "MAXIMUM_AVERAGE_EDIT_DISTANCE_RATE = 0.00\n",
    "total_sent = sent_stat.shape[0]\n",
    "good_sent = (sent_stat[\"sent_edit_distance\"] <= MAXIMUM_AVERAGE_EDIT_DISTANCE_RATE).sum()\n",
    "good_sent_ratio = good_sent / total_sent\n",
    "print(\"Bonnes phrases: %s\\nPhrases totales: %s\\nRatio de bonnes phrases: %s\" % (good_sent, total_sent, good_sent_ratio))"
   ]
  },
  {
   "cell_type": "code",
   "execution_count": 37,
   "id": "3b0034e5-a1cb-4ad4-bee6-f8c4cb6d58cc",
   "metadata": {},
   "outputs": [
    {
     "data": {
      "text/html": [
       "<div>\n",
       "<style scoped>\n",
       "    .dataframe tbody tr th:only-of-type {\n",
       "        vertical-align: middle;\n",
       "    }\n",
       "\n",
       "    .dataframe tbody tr th {\n",
       "        vertical-align: top;\n",
       "    }\n",
       "\n",
       "    .dataframe thead th {\n",
       "        text-align: right;\n",
       "    }\n",
       "</style>\n",
       "<table border=\"1\" class=\"dataframe\">\n",
       "  <thead>\n",
       "    <tr style=\"text-align: right;\">\n",
       "      <th></th>\n",
       "      <th>ocr_sentence</th>\n",
       "      <th>gs_sentence</th>\n",
       "      <th>sent_edit_distance</th>\n",
       "    </tr>\n",
       "  </thead>\n",
       "  <tbody>\n",
       "    <tr>\n",
       "      <th>38</th>\n",
       "      <td>Av. des Nerviens, 13.</td>\n",
       "      <td>Av. des Nerviens, 13.</td>\n",
       "      <td>0.0</td>\n",
       "    </tr>\n",
       "    <tr>\n",
       "      <th>39</th>\n",
       "      <td>5683</td>\n",
       "      <td>5683</td>\n",
       "      <td>0.0</td>\n",
       "    </tr>\n",
       "    <tr>\n",
       "      <th>40</th>\n",
       "      <td>BERLITZ</td>\n",
       "      <td>BERLITZ</td>\n",
       "      <td>0.0</td>\n",
       "    </tr>\n",
       "    <tr>\n",
       "      <th>41</th>\n",
       "      <td>Nouveaux Cours Anglais Français Espagnol Allem...</td>\n",
       "      <td>Nouveaux Cours Anglais Français Espagnol Allem...</td>\n",
       "      <td>0.0</td>\n",
       "    </tr>\n",
       "    <tr>\n",
       "      <th>47</th>\n",
       "      <td>Ecr. 9909 bur. journ</td>\n",
       "      <td>Ecr. 9909 bur. journ</td>\n",
       "      <td>0.0</td>\n",
       "    </tr>\n",
       "    <tr>\n",
       "      <th>50</th>\n",
       "      <td>Académie de Culture Française, 34 rue du Mail ...</td>\n",
       "      <td>Académie de Culture Française, 34 rue du Mail ...</td>\n",
       "      <td>0.0</td>\n",
       "    </tr>\n",
       "    <tr>\n",
       "      <th>52</th>\n",
       "      <td>Comptable</td>\n",
       "      <td>Comptable</td>\n",
       "      <td>0.0</td>\n",
       "    </tr>\n",
       "    <tr>\n",
       "      <th>53</th>\n",
       "      <td>Expert-comptable</td>\n",
       "      <td>Expert-comptable</td>\n",
       "      <td>0.0</td>\n",
       "    </tr>\n",
       "  </tbody>\n",
       "</table>\n",
       "</div>"
      ],
      "text/plain": [
       "                                         ocr_sentence  \\\n",
       "38                              Av. des Nerviens, 13.   \n",
       "39                                               5683   \n",
       "40                                            BERLITZ   \n",
       "41  Nouveaux Cours Anglais Français Espagnol Allem...   \n",
       "47                               Ecr. 9909 bur. journ   \n",
       "50  Académie de Culture Française, 34 rue du Mail ...   \n",
       "52                                          Comptable   \n",
       "53                                   Expert-comptable   \n",
       "\n",
       "                                          gs_sentence  sent_edit_distance  \n",
       "38                              Av. des Nerviens, 13.                 0.0  \n",
       "39                                               5683                 0.0  \n",
       "40                                            BERLITZ                 0.0  \n",
       "41  Nouveaux Cours Anglais Français Espagnol Allem...                 0.0  \n",
       "47                               Ecr. 9909 bur. journ                 0.0  \n",
       "50  Académie de Culture Française, 34 rue du Mail ...                 0.0  \n",
       "52                                          Comptable                 0.0  \n",
       "53                                   Expert-comptable                 0.0  "
      ]
     },
     "execution_count": 37,
     "metadata": {},
     "output_type": "execute_result"
    }
   ],
   "source": [
    "################# visuel de distance d'edition entre les phrase ocr et la traduction de reference\n",
    "\n",
    "good_sentences_stat = sent_stat[sent_stat[\"sent_edit_distance\"] <= MAXIMUM_AVERAGE_EDIT_DISTANCE_RATE]\n",
    "i = random.randint(0, good_sentences_stat.shape[0] - 1)\n",
    "\n",
    "good_sentences_stat[i: i + 8].sort_values(\"sent_edit_distance\", ascending=False)"
   ]
  },
  {
   "cell_type": "code",
   "execution_count": 35,
   "id": "690ac8ca-aa55-42f5-bfa7-5b2c2b039f63",
   "metadata": {},
   "outputs": [
    {
     "name": "stdout",
     "output_type": "stream",
     "text": [
      "Distance d'édition moyenne de tout le corpus : 0.12\n"
     ]
    }
   ],
   "source": [
    "# Calcul de la distance d'édition moyenne pour tout le corpus\n",
    "average_edit_distance = sent_stat[\"sent_edit_distance\"].mean()\n",
    "\n",
    "print(\"Distance d'édition moyenne de tout le corpus : %.2f\" % average_edit_distance)"
   ]
  },
  {
   "cell_type": "code",
   "execution_count": null,
   "id": "8de61b23-e014-4baa-86c7-eb8199222511",
   "metadata": {},
   "outputs": [],
   "source": []
  },
  {
   "cell_type": "code",
   "execution_count": null,
   "id": "8b14794a-ef5f-4269-b51d-3118e664e76d",
   "metadata": {},
   "outputs": [],
   "source": []
  }
 ],
 "metadata": {
  "kernelspec": {
   "display_name": "Python 3 (ipykernel)",
   "language": "python",
   "name": "python3"
  },
  "language_info": {
   "codemirror_mode": {
    "name": "ipython",
    "version": 3
   },
   "file_extension": ".py",
   "mimetype": "text/x-python",
   "name": "python",
   "nbconvert_exporter": "python",
   "pygments_lexer": "ipython3",
   "version": "3.11.6"
  }
 },
 "nbformat": 4,
 "nbformat_minor": 5
}
