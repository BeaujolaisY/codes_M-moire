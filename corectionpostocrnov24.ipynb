{
 "cells": [
  {
   "cell_type": "markdown",
   "id": "a3a3a110-04ca-4219-8707-3a7e72259a95",
   "metadata": {},
   "source": [
    "# modele de correction"
   ]
  },
  {
   "cell_type": "markdown",
   "id": "741e0bba-eb4b-463a-bee5-e06e2b826a13",
   "metadata": {},
   "source": [
    "# Étape 1: Préparation de l'environnement"
   ]
  },
  {
   "cell_type": "code",
   "execution_count": null,
   "id": "08915ce3-c9c0-405c-a501-91b234b57b3f",
   "metadata": {},
   "outputs": [],
   "source": [
    "pip install transformers"
   ]
  },
  {
   "cell_type": "code",
   "execution_count": null,
   "id": "93f20b41-a6c1-4598-b754-5de3eabc2f62",
   "metadata": {},
   "outputs": [],
   "source": [
    "!pip install transformers torch sklearn"
   ]
  },
  {
   "cell_type": "code",
   "execution_count": null,
   "id": "fc7c7b92-2bf6-4370-9930-1a17244d3503",
   "metadata": {},
   "outputs": [],
   "source": [
    "!pip install --upgrade pip"
   ]
  },
  {
   "cell_type": "code",
   "execution_count": null,
   "id": "6ce72d3b-6d7c-4f63-a156-7d6c777afa82",
   "metadata": {},
   "outputs": [],
   "source": [
    "pip install plotly"
   ]
  },
  {
   "cell_type": "code",
   "execution_count": null,
   "id": "b237d178-a2f6-425f-89ae-6eea9f6e75e0",
   "metadata": {},
   "outputs": [],
   "source": [
    "pip install scikit-learn"
   ]
  },
  {
   "cell_type": "code",
   "execution_count": null,
   "id": "25bf17d3-486b-4d0e-ab91-6f5eadd5d39f",
   "metadata": {},
   "outputs": [],
   "source": [
    "pip install torch"
   ]
  },
  {
   "cell_type": "code",
   "execution_count": null,
   "id": "736d00fc-a681-4609-8a0d-a206bd8ac676",
   "metadata": {},
   "outputs": [],
   "source": [
    "pip install pandas"
   ]
  },
  {
   "cell_type": "code",
   "execution_count": null,
   "id": "dca82d6a-1a2f-4e7c-8ef3-26f32f165a50",
   "metadata": {},
   "outputs": [],
   "source": [
    "pip install wheel"
   ]
  },
  {
   "cell_type": "code",
   "execution_count": null,
   "id": "d689db0b-ad30-4ba4-b8ca-83bc957cd9df",
   "metadata": {},
   "outputs": [],
   "source": [
    "pip install editdistance "
   ]
  },
  {
   "cell_type": "code",
   "execution_count": null,
   "id": "9bf93dbe-ffbf-449c-b918-4c244723c0f3",
   "metadata": {},
   "outputs": [],
   "source": [
    "pip install matplotlib"
   ]
  },
  {
   "cell_type": "code",
   "execution_count": null,
   "id": "75b0c79b-480d-43d2-a4b0-809674fcf4a8",
   "metadata": {},
   "outputs": [],
   "source": [
    "pip install seaborn"
   ]
  },
  {
   "cell_type": "code",
   "execution_count": null,
   "id": "0007bbf5-f68d-4c18-a673-a9882925e289",
   "metadata": {},
   "outputs": [],
   "source": [
    "pip install nltk"
   ]
  },
  {
   "cell_type": "markdown",
   "id": "3fec2640-f9be-4786-a8dc-8804ae1561f9",
   "metadata": {},
   "source": [
    "# Étape 2: Importation des bibliothèques et Étape 3: Chargement, préparation et prétraitement des données"
   ]
  },
  {
   "cell_type": "code",
   "execution_count": 3,
   "id": "d167d420-05fc-4e4d-8b30-6051e8c53d41",
   "metadata": {},
   "outputs": [],
   "source": [
    "# importation des dépendances\n",
    "\n",
    "import numpy as np\n",
    "import pandas as pd\n",
    "import re\n",
    "import plotly.express as px\n",
    "import pickle\n",
    "from transformers import BertTokenizer\n",
    "from transformers import BertForTokenClassification\n",
    "import torch\n",
    "import nltk.data\n",
    "import glob\n",
    "import os\n",
    "import plotly.express as px\n",
    "from os import path\n",
    "import editdistance\n",
    "import random\n",
    "import torch\n",
    "from torch import nn\n",
    "from torch.utils.data import TensorDataset, DataLoader, RandomSampler, SequentialSampler\n",
    "import transformers\n",
    "from transformers import BertTokenizer, BertConfig, BertModel, AdamW, get_linear_schedule_with_warmup\n",
    "\n",
    "from sklearn.metrics import f1_score, accuracy_score\n",
    "from tqdm import tqdm, trange\n",
    "\n",
    "torch.__version__\n",
    "transformers.__version__\n",
    "import matplotlib.pyplot as plt\n",
    "%matplotlib inline\n",
    "\n",
    "import seaborn as sns"
   ]
  },
  {
   "cell_type": "code",
   "execution_count": 5,
   "id": "7190390c-2d9e-4254-92c6-56c910524ba5",
   "metadata": {},
   "outputs": [
    {
     "data": {
      "text/plain": [
       "['[OCR_toInput] Loys, par la grace de Dieu roy de Fr',\n",
       " '[OCR_aligned] Loys, par la grace de Dieu roy de Fr',\n",
       " '[ GS_aligned] Loys, par la grace de Dieu roy de Fr']"
      ]
     },
     "execution_count": 5,
     "metadata": {},
     "output_type": "execute_result"
    }
   ],
   "source": [
    "\n",
    "#  chemin absolu du dossier POCR-ground-truth\n",
    "icdar_path = os.path.abspath(\"data_set\")\n",
    "\n",
    "#  chemin complet vers le fichier\n",
    "file = os.path.join(icdar_path, \"training_18M_without_Finnish/FR/FR1/0.txt\")\n",
    "\n",
    "with open(file, \"r\", encoding=\"utf-8\") as f:\n",
    "    raw_text = f.readlines()\n",
    "[s[:50] for s in raw_text]"
   ]
  },
  {
   "cell_type": "code",
   "execution_count": null,
   "id": "f4e4c730-35ae-4fac-bcbe-75e1b2c1bcde",
   "metadata": {},
   "outputs": [],
   "source": [
    "## telechargement de la bibliotheque punkt \n",
    "import nltk\n",
    "nltk.download(\"punkt\")\n",
    "\n",
    "# chargement du module de tockenization \n",
    "\n",
    "sentence_tokenizer = nltk.data.load('tokenizers/punkt/french.pickle')"
   ]
  },
  {
   "cell_type": "code",
   "execution_count": 7,
   "id": "3f3544bc-00c8-415c-9b9b-a5f8462c6bff",
   "metadata": {},
   "outputs": [],
   "source": [
    "def get_common_space_ids(sentence, gs_sentence):\n",
    "    \"\"\"Return indices of the spaces in the text which match in the both OCR and GS sentences.\"\"\"\n",
    "    \n",
    "    ocr_space_ids = [match.span()[0] for match in re.finditer(\" \", sentence)]\n",
    "    gs_space_ids = [match.span()[0] for match in re.finditer(\" \", gs_sentence)]\n",
    "\n",
    "    gs_cursor = 0\n",
    "    new_ocr_space_ids = []\n",
    "    for i, space_id in enumerate(ocr_space_ids):\n",
    "        while gs_cursor < len(gs_space_ids) and gs_space_ids[gs_cursor] < space_id:\n",
    "            gs_cursor += 1\n",
    "\n",
    "        if gs_cursor < len(gs_space_ids) and gs_space_ids[gs_cursor] == space_id:\n",
    "            new_ocr_space_ids.append(space_id)\n",
    "    new_ocr_space_ids.append(len(sentence))\n",
    "    return new_ocr_space_ids"
   ]
  },
  {
   "cell_type": "code",
   "execution_count": null,
   "id": "939c35b2-39ba-42e7-8bd3-456d732e1bbc",
   "metadata": {},
   "outputs": [],
   "source": [
    "########################\n",
    "\n",
    "def extract_dataset(files, ocr_last_breakline_remove=False):\n",
    "    aligned_words = []\n",
    "    words = []\n",
    "    aligned_gs_words = []\n",
    "    labels = []\n",
    "\n",
    "    total_files = len(files)\n",
    "    for file in files:\n",
    "        print(file)\n",
    "        with open(file, \"r\", encoding=\"utf-8\") as f:\n",
    "            raw_text = f.readlines()\n",
    "            \n",
    "    #   En omettant les 14 premiers symboles qui contiennent la définition de la structure comme \"[OCR_toInput] \"\n",
    "\n",
    "        if ocr_last_breakline_remove:\n",
    "            aligned_ocr = raw_text[1][14:-1]\n",
    "        else:\n",
    "            aligned_ocr = raw_text[1][14:]\n",
    "        aligned_gs = raw_text[2][14:]\n",
    "        \n",
    "        # la longueur des textes alignés doit être la même\n",
    "\n",
    "        assert len(aligned_ocr) == len(aligned_gs)\n",
    "        file_aligned_words = []\n",
    "        file_words = []\n",
    "        file_aligned_gs_words = []\n",
    "        file_labels = []\n",
    "        \n",
    "        # Obtenir des phrases à partir de l'alignement OCRed text\n",
    "        sentence_spans = sentence_tokenizer.span_tokenize(aligned_ocr)\n",
    "        \n",
    "        for sentence_start, sentence_end in sentence_spans:\n",
    "            sentence = aligned_ocr[sentence_start: sentence_end]\n",
    "            gs_sentence = aligned_gs[sentence_start: sentence_end]\n",
    "            \n",
    "            assert len(gs_sentence) == len(sentence)\n",
    "            \n",
    "            sentence_aligned_words = []\n",
    "            sentence_words = []\n",
    "            sentence_aligned_gs_words = []\n",
    "            sentence_labels = []\n",
    "            \n",
    "            # Obtenir des indices d'espace entre les jetons, qui sont utilisés pour obtenir le\n",
    "            # étendues de mots. Ici, un mot peut contenir plus d'un jeton, si le\n",
    "            # GS sur cette période n'a pas les mêmes mots divisés\n",
    "\n",
    "            new_ocr_space_ids = get_common_space_ids(sentence, gs_sentence)\n",
    "            \n",
    "            word_start = 0\n",
    "            # Traversée de l'espace ids\n",
    "            for space_id in new_ocr_space_ids:\n",
    "                word = sentence[word_start: space_id]\n",
    "\n",
    "    #          S'il y avait une séquence d'espaces, le mot résultant est vide. Nous l'omettons\n",
    "                if len(word) == 0:\n",
    "                    word_start = space_id + 1 \n",
    "                    continue\n",
    "                \n",
    "                trimmed_word = word.replace(\"@\", \"\")\n",
    "                gs_word = gs_sentence[word_start: space_id]\n",
    "                label = int(word != gs_word)\n",
    "                \n",
    "                sentence_labels.append(label)\n",
    "                sentence_aligned_words.append(word)\n",
    "                sentence_words.append(trimmed_word)\n",
    "                sentence_aligned_gs_words.append(gs_word) \n",
    "                \n",
    "                word_start = space_id + 1\n",
    "                \n",
    "            file_aligned_words.append(sentence_aligned_words)\n",
    "            file_words.append(sentence_words)\n",
    "            file_aligned_gs_words.append(sentence_aligned_gs_words)\n",
    "            file_labels.append(sentence_labels)\n",
    "        \n",
    "        aligned_words.extend(file_aligned_words)\n",
    "        words.extend(file_words)\n",
    "        aligned_gs_words.extend(file_aligned_gs_words)\n",
    "        labels.extend(file_labels)\n",
    "    return aligned_words, words, aligned_gs_words, labels\n",
    "train_files = glob.glob(os.path.join(icdar_path, \"training_18M_without_Finnish\\*\", \"*\", \"*.txt\"))\n",
    "aligned_words, words, aligned_gs_words, labels = extract_dataset(train_files)"
   ]
  },
  {
   "cell_type": "code",
   "execution_count": 10,
   "id": "540df83e-5070-4622-a016-e2750185f86b",
   "metadata": {},
   "outputs": [
    {
     "data": {
      "text/plain": [
       "<Axes: >"
      ]
     },
     "execution_count": 10,
     "metadata": {},
     "output_type": "execute_result"
    },
    {
     "data": {
      "image/png": "[encoded data removed]",
      "text/plain": [
       "<Figure size 640x480 with 1 Axes>"
      ]
     },
     "metadata": {},
     "output_type": "display_data"
    }
   ],
   "source": [
    "######################## calcul et affichage de la distanc de levinstein de notre corpus\n",
    "sent_stat = pd.DataFrame({\"ocr_sentence\": aligned_words, \"gs_sentence\": aligned_gs_words})\n",
    "\n",
    "def compute_sent_edit_distance(x):\n",
    "    ''' Compute sentence edit distance normalized by the length of the sentence'''\n",
    "    ocr_sent = \"\".join(x['ocr_sentence'])\n",
    "    gs_sent = \"\".join(x['gs_sentence'])\n",
    "    return editdistance.distance(ocr_sent, gs_sent) / max(len(ocr_sent), len(gs_sent))\n",
    "\n",
    "sent_stat[\"sent_edit_distance\"] = sent_stat.apply(compute_sent_edit_distance, axis=1)\n",
    "### generation du graphique \n",
    "sent_stat[\"sent_edit_distance\"].hist()"
   ]
  },
  {
   "cell_type": "code",
   "execution_count": 11,
   "id": "13fbd00c-e2df-41bc-a8d7-2cff0e349080",
   "metadata": {},
   "outputs": [
    {
     "name": "stdout",
     "output_type": "stream",
     "text": [
      "Bonnes phrases: 113476\n",
      "Phrases totales: 132829\n",
      "Ratio de bonnes phrases: 0.8543013950266884\n"
     ]
    }
   ],
   "source": [
    "########################## comptage des bonne et mauvaise phrase de notre corpus\n",
    "\n",
    "MAXIMUM_AVERAGE_EDIT_DISTANCE_RATE = 0.4\n",
    "total_sent = sent_stat.shape[0]\n",
    "good_sent = (sent_stat[\"sent_edit_distance\"] <= MAXIMUM_AVERAGE_EDIT_DISTANCE_RATE).sum()\n",
    "good_sent_ratio = good_sent / total_sent\n",
    "print(\"Bonnes phrases: %s\\nPhrases totales: %s\\nRatio de bonnes phrases: %s\" % (good_sent, total_sent, good_sent_ratio))"
   ]
  },
  {
   "cell_type": "code",
   "execution_count": 13,
   "id": "c9e1c65d-f8e6-42b3-a6df-bb65947de17e",
   "metadata": {},
   "outputs": [
    {
     "data": {
      "text/html": [
       "<div>\n",
       "<style scoped>\n",
       "    .dataframe tbody tr th:only-of-type {\n",
       "        vertical-align: middle;\n",
       "    }\n",
       "\n",
       "    .dataframe tbody tr th {\n",
       "        vertical-align: top;\n",
       "    }\n",
       "\n",
       "    .dataframe thead th {\n",
       "        text-align: right;\n",
       "    }\n",
       "</style>\n",
       "<table border=\"1\" class=\"dataframe\">\n",
       "  <thead>\n",
       "    <tr style=\"text-align: right;\">\n",
       "      <th></th>\n",
       "      <th>ocr_sentence</th>\n",
       "      <th>gs_sentence</th>\n",
       "      <th>sent_edit_distance</th>\n",
       "    </tr>\n",
       "  </thead>\n",
       "  <tbody>\n",
       "    <tr>\n",
       "      <th>64060</th>\n",
       "      <td>[Ofnimalifation, unb, Begetatton,, und, der, ©...</td>\n",
       "      <td>[@Animaliſation, und, Vegetation,, und, der, @...</td>\n",
       "      <td>0.270492</td>\n",
       "    </tr>\n",
       "    <tr>\n",
       "      <th>64061</th>\n",
       "      <td>[Und, ift, nicht, nodh, jegt Öleifernt, v@ölli...</td>\n",
       "      <td>[Und, iſt, nicht, noch, jetztGleiſe@n@, voͤlli...</td>\n",
       "      <td>0.262295</td>\n",
       "    </tr>\n",
       "    <tr>\n",
       "      <th>64063</th>\n",
       "      <td>[Den, w@ürbtgs, nur, f@ür, bdie, heutigen, gilt.]</td>\n",
       "      <td>[Den, wuͤrdig@, nur, fuͤr, @die, heutigen, gilt.]</td>\n",
       "      <td>0.228571</td>\n",
       "    </tr>\n",
       "    <tr>\n",
       "      <th>64062</th>\n",
       "      <td>[Dte, Unts, find, fcbr, unrveife, Droducte, ge...</td>\n",
       "      <td>[Die, Un@i, ſind, ſehr, unr@eife, Producte, ge...</td>\n",
       "      <td>0.219512</td>\n",
       "    </tr>\n",
       "    <tr>\n",
       "      <th>64059</th>\n",
       "      <td>[jeder, bie, feinige, gur, alleing@ültigen, ma...</td>\n",
       "      <td>[jeder, die, ſeinige, zur, alleinguͤltigen, ma...</td>\n",
       "      <td>0.125000</td>\n",
       "    </tr>\n",
       "  </tbody>\n",
       "</table>\n",
       "</div>"
      ],
      "text/plain": [
       "                                            ocr_sentence  \\\n",
       "64060  [Ofnimalifation, unb, Begetatton,, und, der, ©...   \n",
       "64061  [Und, ift, nicht, nodh, jegt Öleifernt, v@ölli...   \n",
       "64063  [Den, w@ürbtgs, nur, f@ür, bdie, heutigen, gilt.]   \n",
       "64062  [Dte, Unts, find, fcbr, unrveife, Droducte, ge...   \n",
       "64059  [jeder, bie, feinige, gur, alleing@ültigen, ma...   \n",
       "\n",
       "                                             gs_sentence  sent_edit_distance  \n",
       "64060  [@Animaliſation, und, Vegetation,, und, der, @...            0.270492  \n",
       "64061  [Und, iſt, nicht, noch, jetztGleiſe@n@, voͤlli...            0.262295  \n",
       "64063  [Den, wuͤrdig@, nur, fuͤr, @die, heutigen, gilt.]            0.228571  \n",
       "64062  [Die, Un@i, ſind, ſehr, unr@eife, Producte, ge...            0.219512  \n",
       "64059  [jeder, die, ſeinige, zur, alleinguͤltigen, ma...            0.125000  "
      ]
     },
     "execution_count": 13,
     "metadata": {},
     "output_type": "execute_result"
    }
   ],
   "source": [
    "################# visuel de distance d'edition entre les phrase ocr et la traduction de reference\n",
    "\n",
    "good_sentences_stat = sent_stat[sent_stat[\"sent_edit_distance\"] <= MAXIMUM_AVERAGE_EDIT_DISTANCE_RATE]\n",
    "i = random.randint(0, good_sentences_stat.shape[0] - 1)\n",
    "\n",
    "good_sentences_stat[i: i + 5].sort_values(\"sent_edit_distance\", ascending=False)"
   ]
  },
  {
   "cell_type": "code",
   "execution_count": 14,
   "id": "2b29af24-5cc3-4e9a-a02b-e03c8a1608cb",
   "metadata": {},
   "outputs": [
    {
     "data": {
      "text/html": [
       "<div>\n",
       "<style scoped>\n",
       "    .dataframe tbody tr th:only-of-type {\n",
       "        vertical-align: middle;\n",
       "    }\n",
       "\n",
       "    .dataframe tbody tr th {\n",
       "        vertical-align: top;\n",
       "    }\n",
       "\n",
       "    .dataframe thead th {\n",
       "        text-align: right;\n",
       "    }\n",
       "</style>\n",
       "<table border=\"1\" class=\"dataframe\">\n",
       "  <thead>\n",
       "    <tr style=\"text-align: right;\">\n",
       "      <th></th>\n",
       "      <th>ocr_sentence</th>\n",
       "      <th>gs_sentence</th>\n",
       "      <th>sent_edit_distance</th>\n",
       "    </tr>\n",
       "  </thead>\n",
       "  <tbody>\n",
       "    <tr>\n",
       "      <th>109536</th>\n",
       "      <td>[termino, @del, Blasón.]</td>\n",
       "      <td>[Chr@on., lib., 2. cap.]</td>\n",
       "      <td>0.833333</td>\n",
       "    </tr>\n",
       "    <tr>\n",
       "      <th>109535</th>\n",
       "      <td>[Circ@@@ula@ción@@, de, la,, @@s@angre, es, @u...</td>\n",
       "      <td>[cercó à Babylonia, de, mu-, ros. cosa, en, cí...</td>\n",
       "      <td>0.817308</td>\n",
       "    </tr>\n",
       "  </tbody>\n",
       "</table>\n",
       "</div>"
      ],
      "text/plain": [
       "                                             ocr_sentence  \\\n",
       "109536                           [termino, @del, Blasón.]   \n",
       "109535  [Circ@@@ula@ción@@, de, la,, @@s@angre, es, @u...   \n",
       "\n",
       "                                              gs_sentence  sent_edit_distance  \n",
       "109536                           [Chr@on., lib., 2. cap.]            0.833333  \n",
       "109535  [cercó à Babylonia, de, mu-, ros. cosa, en, cí...            0.817308  "
      ]
     },
     "execution_count": 14,
     "metadata": {},
     "output_type": "execute_result"
    }
   ],
   "source": [
    "################## distance dd'edition des phrase a exclure  de notre corpus car edit dist>0.4\n",
    "\n",
    "noisy_sentences_stat = sent_stat[sent_stat[\"sent_edit_distance\"] > MAXIMUM_AVERAGE_EDIT_DISTANCE_RATE]\n",
    "i = random.randint(0, noisy_sentences_stat.shape[0] - 1)\n",
    "\n",
    "noisy_sentences_stat[i: i + 2].sort_values(\"sent_edit_distance\", ascending=False)"
   ]
  },
  {
   "cell_type": "code",
   "execution_count": null,
   "id": "bb4dbf4b-47c1-4f9a-acc3-eeacf784098d",
   "metadata": {},
   "outputs": [],
   "source": [
    "################## creation des fichier d'entrainement \n",
    "\n",
    "words = np.array(words, dtype=object)[good_sentences_stat.index.tolist()].tolist()\n",
    "labels = np.array(labels, dtype=object)[good_sentences_stat.index.tolist()].tolist()\n",
    "pickle.dump(words, open(\"train_ed_filtered_words.pickle\", \"wb\"))\n",
    "pickle.dump(labels, open(\"train_ed_filtered_labels.pickle\", \"wb\"))"
   ]
  },
  {
   "cell_type": "code",
   "execution_count": null,
   "id": "cc837312-5d06-47b6-95bf-34e0b4bcaef9",
   "metadata": {},
   "outputs": [],
   "source": [
    "###########################\n",
    "\n",
    "test_files = glob.glob(os.path.join(icdar_path, \"evaluation_4M_without_Finnish\\*\", \"*\", \"*.txt\"))\n",
    "test_aligned_words, test_words, test_aligned_gs_words, test_labels = extract_dataset(test_files, True)\n",
    "test_sent_stat = pd.DataFrame({\"ocr_sentence\": test_aligned_words, \"gs_sentence\": test_aligned_gs_words})\n",
    "test_sent_stat[\"sent_edit_distance\"] = test_sent_stat.apply(compute_sent_edit_distance, axis=1)\n",
    "test_sent_stat[\"sent_edit_distance\"].hist()\n",
    "print(\"Bonnes phrases: %s\\nTotal de phrases: %s\\nRatio de Bonnes phrases: %s\" % ((test_sent_stat[\"sent_edit_distance\"] <= MAXIMUM_AVERAGE_EDIT_DISTANCE_RATE).sum(), test_sent_stat.shape[0], (test_sent_stat[\"sent_edit_distance\"] < MAXIMUM_AVERAGE_EDIT_DISTANCE_RATE).sum() / test_sent_stat.shape[0]))\n",
    "test_good_sentences_stat = test_sent_stat[test_sent_stat[\"sent_edit_distance\"] <= MAXIMUM_AVERAGE_EDIT_DISTANCE_RATE]\n",
    "eval_words = np.array(test_words, dtype=object)[test_good_sentences_stat.index.tolist()].tolist()\n",
    "eval_labels = np.array(test_labels, dtype=object)[test_good_sentences_stat.index.tolist()].tolist()\n",
    "pickle.dump(eval_words, open(\"test_ed_filtered_words.pickle\", \"wb\"))\n",
    "pickle.dump(eval_labels, open(\"test_ed_filtered_labels.pickle\", \"wb\"))"
   ]
  },
  {
   "cell_type": "code",
   "execution_count": 20,
   "id": "287b3666-ba4b-4450-991b-de7b4bae2ff0",
   "metadata": {},
   "outputs": [],
   "source": [
    "#################\n",
    "\n",
    "eval_words = pickle.load(open(\"test_ed_filtered_words.pickle\", \"rb\"))\n",
    "eval_labels = pickle.load(open(\"test_ed_filtered_labels.pickle\", \"rb\"))\n",
    "words = pickle.load(open(\"train_ed_filtered_words.pickle\", \"rb\"))\n",
    "labels = pickle.load(open(\"train_ed_filtered_labels.pickle\", \"rb\"))"
   ]
  },
  {
   "cell_type": "code",
   "execution_count": 21,
   "id": "2e5ab399-eb12-41a7-b8cb-c58d75eb0cca",
   "metadata": {},
   "outputs": [
    {
     "name": "stdout",
     "output_type": "stream",
     "text": [
      "Faute d'orthographe: 1317158, total: 2469096, typo_rate: 0.5334575893363401\n"
     ]
    }
   ],
   "source": [
    "#######\n",
    "\n",
    "pos_labels_count = sum(sum(sent_labels) for sent_labels in labels)\n",
    "total_labels_count = sum(len(sent_labels) for sent_labels in labels)\n",
    "print(f\"Faute d'orthographe: {pos_labels_count}, total: {total_labels_count}, typo_rate: {pos_labels_count / total_labels_count}\")"
   ]
  },
  {
   "cell_type": "code",
   "execution_count": 22,
   "id": "3bede2e8-136a-44d2-8f83-9cda9837048b",
   "metadata": {},
   "outputs": [],
   "source": [
    "# Initialisation du tokenizer BERT\n",
    "tokenizer = BertTokenizer.from_pretrained('bert-base-multilingual-cased')"
   ]
  },
  {
   "cell_type": "code",
   "execution_count": 23,
   "id": "1b9da636-fc52-4609-bed1-97e6cfb4435a",
   "metadata": {},
   "outputs": [],
   "source": [
    "############### Fonction pour extraire et tokeniser les sentences\n",
    "def tokenize_and_preserve_labels(sentence, text_labels):\n",
    "    \"\"\" Tokenize sentence into BERT subtokens.\"\"\"\n",
    "    tokenized_sentence = []\n",
    "    labels = []\n",
    "\n",
    "    for word, label in zip(sentence, text_labels):\n",
    "\n",
    "        # Tokenisation \n",
    "        tokenized_word = tokenizer.tokenize(word)\n",
    "        n_subwords = len(tokenized_word)\n",
    "\n",
    "        tokenized_sentence.extend(tokenized_word)\n",
    "\n",
    "        labels.extend([label] * n_subwords)\n",
    "\n",
    "#     ajout des CLS et SEP tokens\n",
    "    tokenized_sentence = [\"[CLS]\"] + tokenized_sentence + [\"[SEP]\"]\n",
    "    labels = [0] + labels + [0]\n",
    "    return tokenized_sentence, labels"
   ]
  },
  {
   "cell_type": "code",
   "execution_count": 24,
   "id": "3650062b-5cc2-4d18-88bc-22b7670da322",
   "metadata": {},
   "outputs": [],
   "source": [
    "##############\n",
    "def truncate_or_pad(arr, max_sequence_length):\n",
    "    \"\"\" Truncate or pad the `arr` according the maximum sequence length\"\"\"\n",
    "    \n",
    "    return arr[:max_sequence_length] + [tokenizer.pad_token_id] * (max_sequence_length - len(arr))"
   ]
  },
  {
   "cell_type": "code",
   "execution_count": 25,
   "id": "8428de91-8e48-4c9d-ab35-d5605cd48a5e",
   "metadata": {},
   "outputs": [],
   "source": [
    "####################\n",
    "def prepare_dataset(words, labels, max_sequence_length=100):\n",
    "    \"\"\"Extract inputs, tags and masks tensors from the dataset\"\"\"\n",
    "\n",
    "    tokenized_texts_and_labels = [tokenize_and_preserve_labels(sent, labs) for sent, labs in zip(words, labels)]\n",
    "\n",
    "    tokenized_texts = [token_label_pair[0] for token_label_pair in tokenized_texts_and_labels]\n",
    "    tokenized_labels = [token_label_pair[1] for token_label_pair in tokenized_texts_and_labels]\n",
    "    input_ids = np.array([truncate_or_pad(tokenizer.convert_tokens_to_ids(txt), max_sequence_length) for txt in tokenized_texts], dtype='long')\n",
    "    subtoken_labels = np.array([truncate_or_pad(sentence_labels, max_sequence_length) for sentence_labels in tokenized_labels], dtype='long')\n",
    "    attention_masks = [[int(i != 0) for i in ii] for ii in input_ids]\n",
    "\n",
    "    inputs = torch.tensor(input_ids, dtype=torch.long)\n",
    "    tags = torch.tensor(subtoken_labels, dtype=torch.long)\n",
    "    masks = torch.tensor(attention_masks, dtype=torch.long)\n",
    "    return inputs, tags, masks\n",
    "MAX_SEQUENCE_LENGTH = 100\n",
    "tr_inputs, tr_tags, tr_masks = prepare_dataset(words, labels, MAX_SEQUENCE_LENGTH)\n",
    "val_inputs, val_tags, val_masks = prepare_dataset(eval_words, eval_labels, MAX_SEQUENCE_LENGTH)"
   ]
  },
  {
   "cell_type": "code",
   "execution_count": 26,
   "id": "d9e91ad8-ddc2-4d71-be04-ceaeaa8b7226",
   "metadata": {},
   "outputs": [],
   "source": [
    "########################\n",
    "prepared_data_dir = \"prepared_data\"\n",
    "os.makedirs(prepared_data_dir, exist_ok=True)\n",
    "\n",
    "# sauvegarde des pickled data et instance tokenizer. \n",
    "\n",
    "pickle.dump(tr_inputs, open(path.join(prepared_data_dir, \"tr_inputs.pickle\"), \"wb\"))\n",
    "pickle.dump(val_inputs, open(path.join(prepared_data_dir, \"val_inputs.pickle\"), \"wb\"))\n",
    "pickle.dump(tr_tags, open(path.join(prepared_data_dir, \"tr_tags.pickle\"), \"wb\"))\n",
    "pickle.dump(val_tags, open(path.join(prepared_data_dir, \"val_tags.pickle\"), \"wb\"))\n",
    "pickle.dump(tr_masks, open(path.join(prepared_data_dir, \"tr_masks.pickle\"), \"wb\"))\n",
    "pickle.dump(val_masks, open(path.join(prepared_data_dir, \"val_masks.pickle\"), \"wb\"))\n",
    "tokenizer.save_pretrained(prepared_data_dir)\n",
    "\n",
    "# chargement des pickled data instance tokenizer\n",
    "\n",
    "tokenizer = BertTokenizer.from_pretrained(prepared_data_dir)\n",
    "tr_inputs = pickle.load(open(path.join(prepared_data_dir, \"tr_inputs.pickle\"), \"rb\"))\n",
    "val_inputs = pickle.load(open(path.join(prepared_data_dir, \"val_inputs.pickle\"), \"rb\"))\n",
    "tr_tags = pickle.load(open(path.join(prepared_data_dir, \"tr_tags.pickle\"), \"rb\"))\n",
    "val_tags = pickle.load(open(path.join(prepared_data_dir, \"val_tags.pickle\"), \"rb\"))\n",
    "tr_masks = pickle.load(open(path.join(prepared_data_dir, \"tr_masks.pickle\"), \"rb\"))\n",
    "val_masks = pickle.load(open(path.join(prepared_data_dir, \"val_masks.pickle\"), \"rb\"))"
   ]
  },
  {
   "cell_type": "code",
   "execution_count": null,
   "id": "4ea9752a-cac0-427c-971e-fa676aa8578e",
   "metadata": {},
   "outputs": [],
   "source": []
  },
  {
   "cell_type": "markdown",
   "id": "b61b965b-a67b-4211-8397-8b2d7f735c09",
   "metadata": {},
   "source": [
    "\n",
    "#### a voir si on va conservé ou pas cette partie du code\n",
    "\n",
    "\n",
    "# Fonction pour extraire et tokeniser les sections [OCR_toInput] et [GS_aligned]\n"
   ]
  },
  {
   "cell_type": "code",
   "execution_count": null,
   "id": "c5002e85-9d9e-4a0a-8f78-c462b0c83115",
   "metadata": {},
   "outputs": [],
   "source": []
  },
  {
   "cell_type": "markdown",
   "id": "c3446a84-b8a9-4dca-bc43-e995421b7f1c",
   "metadata": {},
   "source": [
    "# Étape 5: Création du modèle"
   ]
  },
  {
   "cell_type": "code",
   "execution_count": 35,
   "id": "c5d9b97f-5d1d-4da9-826e-c57355208ab2",
   "metadata": {},
   "outputs": [],
   "source": [
    "from transformers import BertModel\n",
    "class OCRPostCorrectionModel(nn.Module):\n",
    "    def __init__(self, num_labels, hidden_dropout_prob=0.1):\n",
    "        super(OCRPostCorrectionModel, self).__init__()\n",
    "        self.bert = BertModel.from_pretrained('bert-base-multilingual-cased')\n",
    "        self.dropout = nn.Dropout(hidden_dropout_prob)\n",
    "        self.lstm = nn.LSTM(input_size=768, hidden_size=256, num_layers=2, bidirectional=True, batch_first=True)\n",
    "        self.classifier = nn.Linear(512, num_labels)  # 512 car LSTM bidirectionnel\n",
    "\n",
    "    def forward(self, input_ids, attention_mask=None):\n",
    "        # Obtenir les sorties de BERT\n",
    "        bert_output = self.bert(input_ids=input_ids, attention_mask=attention_mask)\n",
    "        \n",
    "        # Application des dropout aux sorties BERT\n",
    "        bert_output = self.dropout(bert_output.last_hidden_state)\n",
    "        \n",
    "        #  les sorties BERT sont passze a travers le LSTM bidirectionnel\n",
    "        lstm_output, _ = self.lstm(bert_output)\n",
    "        \n",
    "        # Application du dropout aux sorties du LSTM\n",
    "        lstm_output = self.dropout(lstm_output)\n",
    "        \n",
    "        # les sorties du LSTM sont passez a travers le classificateur\n",
    "        logits = self.classifier(lstm_output)\n",
    "        \n",
    "        return logits\n",
    "\n",
    "\n",
    "# Nombre de caractères uniques dans le vocabulaire\n",
    "num_labels = 135  # a définir en fonction de l'analyse de données d'entrainement\n",
    "\n",
    "model = OCRPostCorrectionModel(num_labels=num_labels)\n"
   ]
  },
  {
   "cell_type": "code",
   "execution_count": 36,
   "id": "2f471d7b-a55b-4ba6-9f88-5b88f2471ff1",
   "metadata": {},
   "outputs": [],
   "source": [
    "#################\n",
    "BATCH_SIZE = 32\n",
    "train_data = TensorDataset(tr_inputs, tr_masks, tr_tags)\n",
    "train_sampler = RandomSampler(train_data)\n",
    "train_dataloader = DataLoader(train_data, pin_memory=True, num_workers=2, sampler=train_sampler, batch_size=BATCH_SIZE)\n",
    "\n",
    "valid_data = TensorDataset(val_inputs, val_masks, val_tags)\n",
    "valid_sampler = SequentialSampler(valid_data)\n",
    "valid_dataloader = DataLoader(valid_data, sampler=valid_sampler, batch_size=BATCH_SIZE)"
   ]
  },
  {
   "cell_type": "markdown",
   "id": "a820ba4d-b5f0-479f-b75e-0739c4aa3688",
   "metadata": {},
   "source": [
    "\n"
   ]
  },
  {
   "cell_type": "code",
   "execution_count": null,
   "id": "8d58ec4b-2d4f-491a-96a4-488f18fbfc70",
   "metadata": {},
   "outputs": [],
   "source": [
    "######################\n",
    "device = torch.device(\"cuda\" if torch.cuda.is_available() else \"cpu\")\n",
    "model = OCRPostCorrectionModel(num_labels)\n",
    "model.to(device)"
   ]
  },
  {
   "cell_type": "code",
   "execution_count": null,
   "id": "ab8d2550-13d3-4307-93e2-0e7fc27d8bee",
   "metadata": {},
   "outputs": [],
   "source": [
    "#################################\n",
    "param_optimizer = list(model.named_parameters())\n",
    "optimizer_grouped_parameters = [\n",
    "    {'params': [p for n, p in param_optimizer if \"bias\" in n],\n",
    "        'weight_decay_rate': 0.01},\n",
    "    {'params': [p for n, p in param_optimizer if \"bias\" not in n],\n",
    "        'weight_decay_rate': 0.0}\n",
    "]\n",
    "\n",
    "optimizer = AdamW(\n",
    "    optimizer_grouped_parameters,\n",
    "    lr=5e-5,\n",
    "    eps=1e-8\n",
    ")"
   ]
  },
  {
   "cell_type": "markdown",
   "id": "e1aca35b-be72-4c77-96f0-dc7ab8d520e9",
   "metadata": {},
   "source": [
    "# Étape 6: Entraînement du modèle"
   ]
  },
  {
   "cell_type": "code",
   "execution_count": 40,
   "id": "634f8190-4b01-43e1-a16b-b3e1977e39df",
   "metadata": {},
   "outputs": [
    {
     "name": "stdout",
     "output_type": "stream",
     "text": [
      "Best validation accuracy model location: OCRPostCorrectionModel_best_acc_all\n",
      "Best validation loss model location: OCRPostCorrectionModel_best_loss_all\n",
      "Epoch:0\n"
     ]
    },
    {
     "name": "stderr",
     "output_type": "stream",
     "text": [
      "100%|██████████████████████████████████████████████████████████████████████████████████████████| 3547/3547 [8:01:45<00:00,  8.15s/it]\n"
     ]
    },
    {
     "name": "stdout",
     "output_type": "stream",
     "text": [
      "\n",
      "Training loss: 0.190893604859924\n",
      "Training Accuracy: 0.8930232558139535\n",
      "Validation loss: 0.18652704143817772\n",
      "Validation Accuracy: 0.8553557466770915\n",
      "Epoch:1\n"
     ]
    },
    {
     "name": "stderr",
     "output_type": "stream",
     "text": [
      "100%|██████████████████████████████████████████████████████████████████████████████████████████| 3547/3547 [8:03:07<00:00,  8.17s/it]\n"
     ]
    },
    {
     "name": "stdout",
     "output_type": "stream",
     "text": [
      "\n",
      "Training loss: 0.14018408740099497\n",
      "Training Accuracy: 1.0\n",
      "Validation loss: 0.17576388356678377\n",
      "Validation Accuracy: 0.8866301798279906\n",
      "Epoch:2\n"
     ]
    },
    {
     "name": "stderr",
     "output_type": "stream",
     "text": [
      "100%|██████████████████████████████████████████████████████████████████████████████████████████| 3547/3547 [8:01:58<00:00,  8.15s/it]\n"
     ]
    },
    {
     "name": "stdout",
     "output_type": "stream",
     "text": [
      "\n",
      "Training loss: 0.11160267396190149\n",
      "Training Accuracy: 0.9863013698630136\n",
      "Validation loss: 0.18435529410302387\n",
      "Validation Accuracy: 0.8780297107114934\n",
      "Epoch:3\n"
     ]
    },
    {
     "name": "stderr",
     "output_type": "stream",
     "text": [
      "100%|██████████████████████████████████████████████████████████████████████████████████████████| 3547/3547 [8:02:04<00:00,  8.15s/it]\n"
     ]
    },
    {
     "name": "stdout",
     "output_type": "stream",
     "text": [
      "\n",
      "Training loss: 0.08952962653041895\n",
      "Training Accuracy: 0.9867256637168141\n",
      "Validation loss: 0.2002862938334455\n",
      "Validation Accuracy: 0.8780297107114934\n",
      "Epoch:4\n"
     ]
    },
    {
     "name": "stderr",
     "output_type": "stream",
     "text": [
      "100%|██████████████████████████████████████████████████████████████████████████████████████████| 3547/3547 [8:02:18<00:00,  8.16s/it]\n"
     ]
    },
    {
     "name": "stdout",
     "output_type": "stream",
     "text": [
      "\n",
      "Training loss: 0.0736272328118115\n",
      "Training Accuracy: 0.9782608695652174\n",
      "Validation loss: 0.22219604446742117\n",
      "Validation Accuracy: 0.8788115715402658\n"
     ]
    }
   ],
   "source": [
    "######################## entrainement du model BERT Multilingue ##################################\n",
    "\n",
    "epochs = 5\n",
    "max_grad_norm = 1.0\n",
    "\n",
    "# Total number of training steps is number of batches * number of epochs.\n",
    "total_steps = len(train_dataloader) * epochs\n",
    "\n",
    "# Create the learning rate scheduler.\n",
    "scheduler = get_linear_schedule_with_warmup(\n",
    "    optimizer,\n",
    "    num_warmup_steps=0,\n",
    "    num_training_steps=total_steps\n",
    ")\n",
    "## Store the average loss and accuracy after each epoch so we can plot them.\n",
    "loss_values, validation_loss_values = [], []\n",
    "training_acc, val_acc = [], []\n",
    "best_valid_loss = float('inf')\n",
    "best_valid_acc = 0\n",
    "\n",
    "best_acc_output_dir = \"OCRPostCorrectionModel_best_acc_all\" \n",
    "best_loss_output_dir = \"OCRPostCorrectionModel_best_loss_all\"\n",
    "\n",
    "# Create output directory\n",
    "os.makedirs(best_acc_output_dir, exist_ok=True)\n",
    "os.makedirs(best_loss_output_dir, exist_ok=True)\n",
    "\n",
    "print(\"Best validation accuracy model location: %s\" % best_acc_output_dir)\n",
    "print(\"Best validation loss model location: %s\" % best_loss_output_dir)\n",
    "all_predictions = []\n",
    "all_true_labels = []\n",
    "all_masks = []\n",
    "\n",
    "for epoch in range(epochs):\n",
    "    print(f\"Epoch:{epoch}\")\n",
    "    \n",
    "\n",
    "    ##### Puting our model into training mode.\n",
    "    model.train()\n",
    "    total_loss = 0\n",
    "\n",
    "    # Training loop\n",
    "    true_labels = []\n",
    "    logits_list = []\n",
    "    label_ids_list = []\n",
    "    for step, batch in enumerate(tqdm(train_dataloader, position=0, leave=True)):\n",
    "    # for step, batch in enumerate(train_dataloader):\n",
    "        # add batch to gpu\n",
    "        batch = tuple(t.to(device) for t in batch)\n",
    "        b_input_ids, b_input_mask, b_labels = batch\n",
    "        model.zero_grad()\n",
    "        \n",
    "        logits = model(b_input_ids, attention_mask=b_input_mask)\n",
    "        loss_fct = nn.CrossEntropyLoss()\n",
    "        # Only keep active parts of the loss\n",
    "        active_loss = b_input_mask.view(-1) == 1\n",
    "        active_logits = logits.view(-1, model.num_labels)\n",
    "        active_labels = torch.where(\n",
    "            active_loss, b_labels.view(-1), torch.tensor(loss_fct.ignore_index).type_as(b_labels)\n",
    "        )\n",
    "        loss = loss_fct(active_logits, active_labels)\n",
    "        \n",
    "        logits = logits.detach()\n",
    "        logits_list.append(logits)\n",
    "        true_labels.extend(b_labels)\n",
    "\n",
    "        #  calculate the gradients.\n",
    "        loss.backward()\n",
    "        # track train loss\n",
    "        total_loss += loss.item()\n",
    "      \n",
    "        torch.nn.utils.clip_grad_norm_(parameters=model.parameters(), max_norm=max_grad_norm)\n",
    "        # update parameters\n",
    "        optimizer.step()\n",
    "        # Update the learning rate.\n",
    "        scheduler.step()\n",
    "\n",
    "    \n",
    "    predictions = [list(p) for logits in logits_list for p in np.argmax(logits.to(\"cpu\").numpy(), axis=2)]\n",
    "    true_labels = [tl.to(\"cpu\").numpy() for tl in true_labels]\n",
    "    \n",
    "    # Calculate the average loss over the training data.\n",
    "    avg_train_loss = total_loss / len(train_dataloader)\n",
    "    print(\"\\nTraining loss: {}\".format(avg_train_loss))\n",
    "                                  \n",
    "    b_input_mask_list = b_input_mask.cpu().numpy().tolist()\n",
    "    pred_tags = [p_i for p, l, a in zip(predictions, true_labels, b_input_mask_list)\n",
    "                                 for p_i, l_i, a_i in zip(p, l, a) if a_i]\n",
    "    valid_tags = [l_i for l, a in zip(true_labels, b_input_mask_list)\n",
    "                                  for l_i, a_i in zip(l, a) if a_i]\n",
    "\n",
    "    acc = accuracy_score(pred_tags, valid_tags)\n",
    "    print(\"Training Accuracy: {}\".format(acc))\n",
    "    training_acc.append(acc)\n",
    "\n",
    "    loss_values.append(avg_train_loss)\n",
    "\n",
    "\n",
    "\n",
    "    # After the completion of each training epoch, we measure our performance on\n",
    "    # our validation set.\n",
    "\n",
    "    model.eval()\n",
    "    eval_loss, eval_accuracy = 0, 0\n",
    "    nb_eval_steps, nb_eval_examples = 0, 0\n",
    "    predictions, true_labels = [], []\n",
    "    for batch in valid_dataloader:\n",
    "        batch = tuple(t.to(device) for t in batch)\n",
    "        b_input_ids, b_input_mask, b_labels = batch\n",
    "\n",
    "        with torch.no_grad():\n",
    "            logits = model(b_input_ids, b_input_mask)\n",
    "        # Move logits and labels to CPU\n",
    "        label_ids = b_labels.to('cpu').numpy()\n",
    "\n",
    "        loss_fct = nn.CrossEntropyLoss()\n",
    "        # Only keep active parts of the loss\n",
    "        active_loss = b_input_mask.view(-1) == 1\n",
    "        active_logits = logits.view(-1, model.num_labels)\n",
    "        active_labels = torch.where(\n",
    "            active_loss, b_labels.view(-1), torch.tensor(loss_fct.ignore_index).type_as(b_labels)\n",
    "        )\n",
    "        loss = loss_fct(active_logits, active_labels).item()\n",
    "\n",
    "        # Calculate the accuracy for this batch of test sentences.\n",
    "        eval_loss += loss\n",
    "        logits = logits.detach().cpu().numpy()\n",
    "        predictions.extend([list(p) for p in np.argmax(logits, axis=2)])\n",
    "        true_labels.extend(label_ids)\n",
    "\n",
    "    eval_loss = eval_loss / len(valid_dataloader)\n",
    "    validation_loss_values.append(eval_loss)\n",
    "    print(\"Validation loss: {}\".format(eval_loss))\n",
    "    b_input_mask_list = b_input_mask.cpu().numpy().tolist()\n",
    "    pred_tags = [p_i for p, l, a in zip(predictions, true_labels, b_input_mask_list)\n",
    "                                 for p_i, l_i, a_i in zip(p, l, a) if a_i]\n",
    "    valid_tags = [l_i for l, a in zip(true_labels, b_input_mask_list)\n",
    "                                  for l_i, a_i in zip(l, a) if a_i]\n",
    "    acc = accuracy_score(pred_tags, valid_tags)\n",
    "    all_predictions.append(predictions)\n",
    "    all_true_labels.append(true_labels)\n",
    "    all_masks.append(b_input_mask_list)\n",
    "    \n",
    "    print(\"Validation Accuracy: {}\".format(acc))\n",
    "    val_acc.append(acc)\n",
    "    \n",
    "    \n",
    "    if eval_loss < best_valid_loss:\n",
    "        best_valid_loss = eval_loss\n",
    "        torch.save({\n",
    "            'epoch': epoch,\n",
    "            'model_state_dict': model.state_dict(),\n",
    "            'optimizer_state_dict': optimizer.state_dict(),\n",
    "            }, path.join(best_loss_output_dir, \"model_BERTLSTM\"))\n",
    "        tokenizer.save_pretrained(best_loss_output_dir)\n",
    "    \n",
    "    if acc > best_valid_acc:\n",
    "        best_valid_acc = acc\n",
    "        torch.save({\n",
    "            'epoch': epoch,\n",
    "            'model_state_dict': model.state_dict(),\n",
    "            'optimizer_state_dict': optimizer.state_dict(),\n",
    "            }, path.join(best_acc_output_dir, \"model_BERTLSTM\"))\n",
    "        tokenizer.save_pretrained(best_acc_output_dir)"
   ]
  },
  {
   "cell_type": "code",
   "execution_count": null,
   "id": "64fb9b15-a671-45ea-8f46-07d1571108bd",
   "metadata": {},
   "outputs": [],
   "source": []
  },
  {
   "cell_type": "code",
   "execution_count": null,
   "id": "3156375c-b181-4ac4-9434-47903f0a5b0d",
   "metadata": {},
   "outputs": [],
   "source": []
  },
  {
   "cell_type": "code",
   "execution_count": null,
   "id": "8d859eb9-aa86-4214-ab6b-e63a8d5f9f36",
   "metadata": {},
   "outputs": [],
   "source": []
  },
  {
   "cell_type": "markdown",
   "id": "c35420a6-2b45-4dad-8a80-8a63dd79214d",
   "metadata": {},
   "source": [
    "# Tracer les Courbes de Perte et de Précision"
   ]
  },
  {
   "cell_type": "code",
   "execution_count": 41,
   "id": "cd57e141-3c95-49c0-8be4-45b30914a50b",
   "metadata": {},
   "outputs": [
    {
     "data": {
      "image/png": "[encoded data removed]",
      "text/plain": [
       "<Figure size 1200x600 with 1 Axes>"
      ]
     },
     "metadata": {},
     "output_type": "display_data"
    }
   ],
   "source": [
    "# tracage de la courbe d'apprentissage\n",
    "\n",
    "# Use plot styling from seaborn.\n",
    "sns.set(style='darkgrid')\n",
    "\n",
    "# Increase the plot size and font size.\n",
    "sns.set(font_scale=1.5)\n",
    "plt.rcParams[\"figure.figsize\"] = (12,6)\n",
    "\n",
    "# Plot the learning curve.\n",
    "plt.plot(loss_values, 'b-o', label=\"training loss\")\n",
    "plt.plot(validation_loss_values, 'r-o', label=\"validation loss\")\n",
    "\n",
    "# Label the plot.\n",
    "plt.title(\"Learning curve\")\n",
    "plt.xlabel(\"Epoch\")\n",
    "plt.ylabel(\"Loss\")\n",
    "plt.legend()\n",
    "\n",
    "plt.show()"
   ]
  },
  {
   "cell_type": "code",
   "execution_count": null,
   "id": "8e55e1b3-a365-46f7-9ee7-e268671412d5",
   "metadata": {},
   "outputs": [],
   "source": [
    "## chargement du model\n",
    "\n",
    "output_dir = \"OCRPostCorrectionModel_best_loss_all\"\n",
    "tokenizer1 = BertTokenizer.from_pretrained(output_dir)\n",
    "\n",
    "model1 = OCRPostCorrectionModel(num_labels)\n",
    "checkpoint = torch.load(path.join(output_dir, \"model_BERTLSTM\"))\n",
    "model1.load_state_dict(checkpoint['model_state_dict'])\n",
    "# Copy the model to the CPU.\n",
    "model1.to(device)\n",
    "model1.eval()"
   ]
  },
  {
   "cell_type": "markdown",
   "id": "7fb96247-c5f3-4758-8183-5ea4b3465e83",
   "metadata": {},
   "source": [
    "# test de correctio"
   ]
  },
  {
   "cell_type": "code",
   "execution_count": 67,
   "id": "2f3f9dc1-4b01-4186-9935-c694bb993a2a",
   "metadata": {},
   "outputs": [
    {
     "name": "stdout",
     "output_type": "stream",
     "text": [
      "Texte original:  J'ai un çh1en et un chta ! Ils sont trop mignons et ils @iment jouer avec leurs jouets, mais il faut que je nettoie leur litière régulièrement ? \n",
      "Texte corrigé:  [unused1] [unused1] [unused1] [unused1] [unused1] [unused1] [unused1] [unused1] [unused1] [unused1] [unused1] [unused1] [unused1] [unused1]\n"
     ]
    }
   ],
   "source": [
    "import torch\n",
    "from transformers import BertTokenizer, BertModel\n",
    "from torch import nn\n",
    "from os import path\n",
    "import numpy as np\n",
    "\n",
    "\n",
    "num_labels = 135  \n",
    "output_dir = \"OCRPostCorrectionModel_best_loss_all\"  #\n",
    "model_filename = \"model_BERTLSTM\"  # Nom du fichier de modèle enregistré\n",
    "\n",
    "\n",
    "class OCRPostCorrectionModel(nn.Module):\n",
    "    def __init__(self, num_labels, hidden_dropout_prob=0.1):\n",
    "        super(OCRPostCorrectionModel, self).__init__()\n",
    "        self.bert = BertModel.from_pretrained('bert-base-multilingual-cased')\n",
    "        self.dropout = nn.Dropout(hidden_dropout_prob)\n",
    "        self.lstm = nn.LSTM(input_size=768, hidden_size=256, num_layers=2, bidirectional=True, batch_first=True)\n",
    "        self.classifier = nn.Linear(512, num_labels)  # 512 car LSTM est bidirectionnel\n",
    "\n",
    "    def forward(self, input_ids, attention_mask=None):\n",
    "        # Obtenir les sorties de BERT\n",
    "        bert_output = self.bert(input_ids=input_ids, attention_mask=attention_mask)\n",
    "        \n",
    "        # Application des dropout aux sorties BERT\n",
    "        bert_output = self.dropout(bert_output.last_hidden_state)\n",
    "        \n",
    "        #  les sorties BERT sont passze a travers le LSTM bidirectionnel\n",
    "        lstm_output, _ = self.lstm(bert_output)\n",
    "        \n",
    "        # Application du dropout aux sorties du LSTM\n",
    "        lstm_output = self.dropout(lstm_output)\n",
    "        \n",
    "        # les sorties du LSTM sont passez a travers le classificateur\n",
    "        logits = self.classifier(lstm_output)\n",
    "        \n",
    "        return logits\n",
    "\n",
    "\n",
    "# Charger le tokenizer\n",
    "tokenizer = BertTokenizer.from_pretrained(output_dir)\n",
    "\n",
    "# Charger le modèle\n",
    "model = OCRPostCorrectionModel(num_labels)\n",
    "model_path = path.join(output_dir, model_filename)\n",
    "\n",
    "# Vérifier si le fichier de modèle existe\n",
    "if path.exists(model_path):\n",
    "    # Charger l'état du modèle\n",
    "    checkpoint = torch.load(model_path, map_location=torch.device('cpu'))\n",
    "    model.load_state_dict(checkpoint['model_state_dict'])\n",
    "else:\n",
    "    print(f\"Le fichier de modèle {model_path} n'existe pas.\")\n",
    "\n",
    "# Placer le modèle sur le périphérique approprié (graphique ou cpu)\n",
    "device = torch.device(\"cuda\" if torch.cuda.is_available() else \"cpu\")\n",
    "model.to(device)\n",
    "model.eval()\n",
    "\n",
    "# Texte à corriger\n",
    "text_to_correct = \"J'ai un çh1en et un chta ! Ils sont trop mignons et ils @iment jouer avec leurs jouets, mais il faut que je nettoie leur litière régulièrement ? \"\n",
    "\n",
    "# Prétraiter le texte avec le tokenizer\n",
    "inputs = tokenizer(text_to_correct, return_tensors='pt', padding='max_length', truncation=True, max_length=512)\n",
    "\n",
    "# Passez le texte à travers le modèle pour obtenir des prédictions\n",
    "with torch.no_grad():\n",
    "    logits = model(inputs['input_ids'].to(device), attention_mask=inputs['attention_mask'].to(device))\n",
    "\n",
    "# Obtenez les indices de tokens prédits\n",
    "predicted_token_ids = torch.argmax(logits, dim=-1)\n",
    "\n",
    "# Convertissez les indices de tokens prédits en texte\n",
    "predicted_text = tokenizer.decode(predicted_token_ids[0], skip_special_tokens=True)\n",
    "\n",
    "print(\"Texte original: \", text_to_correct)\n",
    "print(\"Texte corrigé: \", predicted_text)\n"
   ]
  },
  {
   "cell_type": "code",
   "execution_count": null,
   "id": "da760d2f-0327-4b57-86c8-6c529b31c966",
   "metadata": {},
   "outputs": [],
   "source": []
  },
  {
   "cell_type": "markdown",
   "id": "cf64c57d-ede1-487b-b32a-4206381f6d1e",
   "metadata": {},
   "source": [
    "## test sur fichier xml a adapter en fonction de la structure xml"
   ]
  },
  {
   "cell_type": "markdown",
   "id": "af9c5413-eaeb-4d3b-ba28-266ac75ca4c8",
   "metadata": {},
   "source": [
    "import xml.etree.ElementTree as ET\n",
    "import torch\n",
    "from transformers import BertTokenizer\n",
    "\n",
    "# Charger le tokenizer et le modèle\n",
    "tokenizer = BertTokenizer.from_pretrained('bert-base-multilingual-cased')\n",
    "model = BertLSTM(num_labels=tokenizer.vocab_size)\n",
    "model.load_state_dict(torch.load('path_to_your_model.pth'))\n",
    "model.eval()\n",
    "\n",
    "# Charger et extraire le texte d'un fichier XML\n",
    "tree = ET.parse('path_to_your_file.xml')\n",
    "root = tree.getroot()\n",
    "\n",
    "# Supposons que le texte à corriger se trouve dans un élément 'text'\n",
    "text_to_correct = root.find('.//text').text\n",
    "\n",
    "# Prétraiter le texte\n",
    "inputs = tokenizer(text_to_correct, return_tensors='pt', padding=True, truncation=True, max_length=512)\n",
    "\n",
    "# Faire la prédiction\n",
    "with torch.no_grad():\n",
    "    logits = model(inputs['input_ids'])\n",
    "    predicted_token_ids = torch.argmax(logits, dim=-1)\n",
    "    corrected_text = tokenizer.decode(predicted_token_ids[0], skip_special_tokens=True)\n",
    "\n",
    "print(\"Texte corrigé: \", corrected_text)\n"
   ]
  }
 ],
 "metadata": {
  "kernelspec": {
   "display_name": "Python 3 (ipykernel)",
   "language": "python",
   "name": "python3"
  },
  "language_info": {
   "codemirror_mode": {
    "name": "ipython",
    "version": 3
   },
   "file_extension": ".py",
   "mimetype": "text/x-python",
   "name": "python",
   "nbconvert_exporter": "python",
   "pygments_lexer": "ipython3",
   "version": "3.11.5"
  }
 },
 "nbformat": 4,
 "nbformat_minor": 5
}
